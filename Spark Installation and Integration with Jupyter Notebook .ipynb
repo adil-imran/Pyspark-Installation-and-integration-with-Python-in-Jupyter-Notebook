{
 "cells": [
  {
   "cell_type": "markdown",
   "metadata": {},
   "source": [
    "# Spark Installation and Integration with Python in Jupyter Notebook"
   ]
  },
  {
   "cell_type": "markdown",
   "metadata": {},
   "source": [
    "## Pre-requisite\n",
    "\n",
    "- Java\n",
    "    - https://www.oracle.com/java/technologies/javase/javase8u211-later-archive-downloads.html\n",
    "    - how to check java version  ==enter command in cmd or anaconda prompt==command==  java -version\n",
    "  \n",
    "- Spark Download\n",
    "    - Download link : https://spark.apache.org/downloads.html\n",
    "    - Unzip with the help of 7zip\n",
    "    - Make new folder with the name of Spark and save extract version of Spark in it.\n",
    "    \n",
    "- Hadoop winutils\n",
    "    - Download hadoop winutils from this below link:\n",
    "    - https://github.com/cdarlint/winutils/tree/master/hadoop-3.2.1/bin\n",
    "\n",
    "- Environmnet Variables Update\n",
    "    - Variable name= SPARK_HOME\t| Variable Value = C:\\spark\\spark-2.2.1-bin-hadoop2.7\n",
    "    - Variable name=HADOOP_HOME\t| Variable Value = C:\\Hadoop\n",
    "  \n",
    "    - For JAVA===> Variable name = JAVA_HOME | Variable Value= C:\\Program Files\\Java\\jdk1.8.0_311\n",
    "    \n",
    "<img src=\"https://changhsinlee.com/figure/source/2017-12-30-install-pyspark-windows-jupyter/add-variable.png\"  />\n",
    "\n",
    "- Pyspark Installation in Anaconda\n",
    "    - ! pip install pyspark  (Write this command in Jupyter Notebook or in anaconda prompt)\n",
    "  \n",
    "\n",
    "- findspark Installation\n",
    "    - ! pip install findspark\n",
    "\n",
    "- Test"
   ]
  },
  {
   "cell_type": "code",
   "execution_count": null,
   "metadata": {},
   "outputs": [],
   "source": [
    "! pip install pyspark"
   ]
  },
  {
   "cell_type": "code",
   "execution_count": 1,
   "metadata": {},
   "outputs": [
    {
     "name": "stdout",
     "output_type": "stream",
     "text": [
      "Collecting findspark\n",
      "  Downloading https://files.pythonhosted.org/packages/a4/cb/7d2bb508f4ca00a043fd53e8156c11767799d3f534bf451a0942211d5def/findspark-2.0.1-py2.py3-none-any.whl\n",
      "Installing collected packages: findspark\n",
      "Successfully installed findspark-2.0.1\n"
     ]
    }
   ],
   "source": [
    "! pip install findspark"
   ]
  },
  {
   "cell_type": "code",
   "execution_count": 1,
   "metadata": {},
   "outputs": [],
   "source": [
    "import pyspark\n",
    "import findspark"
   ]
  },
  {
   "cell_type": "code",
   "execution_count": 2,
   "metadata": {},
   "outputs": [],
   "source": [
    "findspark.init()"
   ]
  },
  {
   "cell_type": "code",
   "execution_count": 3,
   "metadata": {},
   "outputs": [
    {
     "data": {
      "text/plain": [
       "'C:\\\\Spark\\\\spark-3.2.1-bin-hadoop3.2'"
      ]
     },
     "execution_count": 3,
     "metadata": {},
     "output_type": "execute_result"
    }
   ],
   "source": [
    "findspark.find()"
   ]
  },
  {
   "cell_type": "code",
   "execution_count": 4,
   "metadata": {},
   "outputs": [],
   "source": [
    "from pyspark.sql import SparkSession"
   ]
  },
  {
   "cell_type": "code",
   "execution_count": 5,
   "metadata": {},
   "outputs": [],
   "source": [
    "spark=SparkSession.builder.appName(\"MySpark\").getOrCreate()"
   ]
  },
  {
   "cell_type": "code",
   "execution_count": 7,
   "metadata": {},
   "outputs": [
    {
     "data": {
      "text/html": [
       "\n",
       "            <div>\n",
       "                <p><b>SparkSession - in-memory</b></p>\n",
       "                \n",
       "        <div>\n",
       "            <p><b>SparkContext</b></p>\n",
       "\n",
       "            <p><a href=\"http://DESKTOP-1RFOK17:4041\">Spark UI</a></p>\n",
       "\n",
       "            <dl>\n",
       "              <dt>Version</dt>\n",
       "                <dd><code>v3.2.1</code></dd>\n",
       "              <dt>Master</dt>\n",
       "                <dd><code>local[*]</code></dd>\n",
       "              <dt>AppName</dt>\n",
       "                <dd><code>MySpark</code></dd>\n",
       "            </dl>\n",
       "        </div>\n",
       "        \n",
       "            </div>\n",
       "        "
      ],
      "text/plain": [
       "<pyspark.sql.session.SparkSession at 0x1fbfee4e908>"
      ]
     },
     "execution_count": 7,
     "metadata": {},
     "output_type": "execute_result"
    }
   ],
   "source": [
    "spark"
   ]
  },
  {
   "cell_type": "code",
   "execution_count": 8,
   "metadata": {},
   "outputs": [],
   "source": [
    "df= spark.read.csv(\"Credit-History.csv\")"
   ]
  },
  {
   "cell_type": "code",
   "execution_count": 10,
   "metadata": {},
   "outputs": [
    {
     "name": "stdout",
     "output_type": "stream",
     "text": [
      "root\n",
      " |-- _c0: string (nullable = true)\n",
      " |-- _c1: string (nullable = true)\n",
      " |-- _c2: string (nullable = true)\n",
      " |-- _c3: string (nullable = true)\n",
      " |-- _c4: string (nullable = true)\n",
      " |-- _c5: string (nullable = true)\n",
      " |-- _c6: string (nullable = true)\n",
      " |-- _c7: string (nullable = true)\n",
      " |-- _c8: string (nullable = true)\n",
      " |-- _c9: string (nullable = true)\n",
      " |-- _c10: string (nullable = true)\n",
      " |-- _c11: string (nullable = true)\n",
      " |-- _c12: string (nullable = true)\n",
      " |-- _c13: string (nullable = true)\n",
      "\n"
     ]
    }
   ],
   "source": [
    "df.printSchema()"
   ]
  },
  {
   "cell_type": "code",
   "execution_count": 12,
   "metadata": {},
   "outputs": [
    {
     "name": "stdout",
     "output_type": "stream",
     "text": [
      "+----+--------+------+-------+----------+------------+-------------+---------------+-----------------+----------+----------------+--------------+-------------+-----------+\n",
      "| _c0|     _c1|   _c2|    _c3|       _c4|         _c5|          _c6|            _c7|              _c8|       _c9|            _c10|          _c11|         _c12|       _c13|\n",
      "+----+--------+------+-------+----------+------------+-------------+---------------+-----------------+----------+----------------+--------------+-------------+-----------+\n",
      "|null| Loan_ID|Gender|Married|Dependents|   Education|Self_Employed|ApplicantIncome|CoapplicantIncome|LoanAmount|Loan_Amount_Term|Credit_History|Property_Area|Loan_Status|\n",
      "|   0|LP001002|  Male|     No|         0|    Graduate|           No|           5849|              0.0|      null|           360.0|           1.0|        Urban|          Y|\n",
      "|   1|LP001003|  Male|    Yes|         1|    Graduate|           No|           4583|           1508.0|     128.0|           360.0|           1.0|        Rural|          N|\n",
      "|   2|LP001005|  Male|    Yes|         0|    Graduate|          Yes|           3000|              0.0|      66.0|           360.0|           1.0|        Urban|          Y|\n",
      "|   3|LP001006|  Male|    Yes|         0|Not Graduate|           No|           2583|           2358.0|     120.0|           360.0|           1.0|        Urban|          Y|\n",
      "|   4|LP001008|  Male|     No|         0|    Graduate|           No|           6000|              0.0|     141.0|           360.0|           1.0|        Urban|          Y|\n",
      "|   5|LP001011|  Male|    Yes|         2|    Graduate|          Yes|           5417|           4196.0|     267.0|           360.0|           1.0|        Urban|          Y|\n",
      "|   6|LP001013|  Male|    Yes|         0|Not Graduate|           No|           2333|           1516.0|      95.0|           360.0|           1.0|        Urban|          Y|\n",
      "|   7|LP001014|  Male|    Yes|        3+|    Graduate|           No|           3036|           2504.0|     158.0|           360.0|           0.0|    Semiurban|          N|\n",
      "|   8|LP001018|  Male|    Yes|         2|    Graduate|           No|           4006|           1526.0|     168.0|           360.0|           1.0|        Urban|          Y|\n",
      "|   9|LP001020|  Male|    Yes|         1|    Graduate|           No|          12841|          10968.0|     349.0|           360.0|           1.0|    Semiurban|          N|\n",
      "|  10|LP001024|  Male|    Yes|         2|    Graduate|           No|           3200|            700.0|      70.0|           360.0|           1.0|        Urban|          Y|\n",
      "|  11|LP001027|  Male|    Yes|         2|    Graduate|         null|           2500|           1840.0|     109.0|           360.0|           1.0|        Urban|          Y|\n",
      "|  12|LP001028|  Male|    Yes|         2|    Graduate|           No|           3073|           8106.0|     200.0|           360.0|           1.0|        Urban|          Y|\n",
      "|  13|LP001029|  Male|     No|         0|    Graduate|           No|           1853|           2840.0|     114.0|           360.0|           1.0|        Rural|          N|\n",
      "|  14|LP001030|  Male|    Yes|         2|    Graduate|           No|           1299|           1086.0|      17.0|           120.0|           1.0|        Urban|          Y|\n",
      "|  15|LP001032|  Male|     No|         0|    Graduate|           No|           4950|              0.0|     125.0|           360.0|           1.0|        Urban|          Y|\n",
      "|  16|LP001034|  Male|     No|         1|Not Graduate|           No|           3596|              0.0|     100.0|           240.0|          null|        Urban|          Y|\n",
      "|  17|LP001036|Female|     No|         0|    Graduate|           No|           3510|              0.0|      76.0|           360.0|           0.0|        Urban|          N|\n",
      "|  18|LP001038|  Male|    Yes|         0|Not Graduate|           No|           4887|              0.0|     133.0|           360.0|           1.0|        Rural|          N|\n",
      "+----+--------+------+-------+----------+------------+-------------+---------------+-----------------+----------+----------------+--------------+-------------+-----------+\n",
      "only showing top 20 rows\n",
      "\n"
     ]
    }
   ],
   "source": [
    "df.show()"
   ]
  },
  {
   "cell_type": "code",
   "execution_count": 11,
   "metadata": {},
   "outputs": [
    {
     "data": {
      "text/plain": [
       "pyspark.sql.dataframe.DataFrame"
      ]
     },
     "execution_count": 11,
     "metadata": {},
     "output_type": "execute_result"
    }
   ],
   "source": [
    "type(df)"
   ]
  },
  {
   "cell_type": "code",
   "execution_count": 13,
   "metadata": {},
   "outputs": [],
   "source": [
    "df=spark.read.option('header', 'true').csv(\"Credit-History.csv\", inferSchema=True)"
   ]
  },
  {
   "cell_type": "code",
   "execution_count": 14,
   "metadata": {},
   "outputs": [
    {
     "name": "stdout",
     "output_type": "stream",
     "text": [
      "+---+--------+------+-------+----------+------------+-------------+---------------+-----------------+----------+----------------+--------------+-------------+-----------+\n",
      "|_c0| Loan_ID|Gender|Married|Dependents|   Education|Self_Employed|ApplicantIncome|CoapplicantIncome|LoanAmount|Loan_Amount_Term|Credit_History|Property_Area|Loan_Status|\n",
      "+---+--------+------+-------+----------+------------+-------------+---------------+-----------------+----------+----------------+--------------+-------------+-----------+\n",
      "|  0|LP001002|  Male|     No|         0|    Graduate|           No|           5849|              0.0|      null|           360.0|           1.0|        Urban|          Y|\n",
      "|  1|LP001003|  Male|    Yes|         1|    Graduate|           No|           4583|           1508.0|     128.0|           360.0|           1.0|        Rural|          N|\n",
      "|  2|LP001005|  Male|    Yes|         0|    Graduate|          Yes|           3000|              0.0|      66.0|           360.0|           1.0|        Urban|          Y|\n",
      "|  3|LP001006|  Male|    Yes|         0|Not Graduate|           No|           2583|           2358.0|     120.0|           360.0|           1.0|        Urban|          Y|\n",
      "|  4|LP001008|  Male|     No|         0|    Graduate|           No|           6000|              0.0|     141.0|           360.0|           1.0|        Urban|          Y|\n",
      "|  5|LP001011|  Male|    Yes|         2|    Graduate|          Yes|           5417|           4196.0|     267.0|           360.0|           1.0|        Urban|          Y|\n",
      "|  6|LP001013|  Male|    Yes|         0|Not Graduate|           No|           2333|           1516.0|      95.0|           360.0|           1.0|        Urban|          Y|\n",
      "|  7|LP001014|  Male|    Yes|        3+|    Graduate|           No|           3036|           2504.0|     158.0|           360.0|           0.0|    Semiurban|          N|\n",
      "|  8|LP001018|  Male|    Yes|         2|    Graduate|           No|           4006|           1526.0|     168.0|           360.0|           1.0|        Urban|          Y|\n",
      "|  9|LP001020|  Male|    Yes|         1|    Graduate|           No|          12841|          10968.0|     349.0|           360.0|           1.0|    Semiurban|          N|\n",
      "| 10|LP001024|  Male|    Yes|         2|    Graduate|           No|           3200|            700.0|      70.0|           360.0|           1.0|        Urban|          Y|\n",
      "| 11|LP001027|  Male|    Yes|         2|    Graduate|         null|           2500|           1840.0|     109.0|           360.0|           1.0|        Urban|          Y|\n",
      "| 12|LP001028|  Male|    Yes|         2|    Graduate|           No|           3073|           8106.0|     200.0|           360.0|           1.0|        Urban|          Y|\n",
      "| 13|LP001029|  Male|     No|         0|    Graduate|           No|           1853|           2840.0|     114.0|           360.0|           1.0|        Rural|          N|\n",
      "| 14|LP001030|  Male|    Yes|         2|    Graduate|           No|           1299|           1086.0|      17.0|           120.0|           1.0|        Urban|          Y|\n",
      "| 15|LP001032|  Male|     No|         0|    Graduate|           No|           4950|              0.0|     125.0|           360.0|           1.0|        Urban|          Y|\n",
      "| 16|LP001034|  Male|     No|         1|Not Graduate|           No|           3596|              0.0|     100.0|           240.0|          null|        Urban|          Y|\n",
      "| 17|LP001036|Female|     No|         0|    Graduate|           No|           3510|              0.0|      76.0|           360.0|           0.0|        Urban|          N|\n",
      "| 18|LP001038|  Male|    Yes|         0|Not Graduate|           No|           4887|              0.0|     133.0|           360.0|           1.0|        Rural|          N|\n",
      "| 19|LP001041|  Male|    Yes|         0|    Graduate|         null|           2600|           3500.0|     115.0|            null|           1.0|        Urban|          Y|\n",
      "+---+--------+------+-------+----------+------------+-------------+---------------+-----------------+----------+----------------+--------------+-------------+-----------+\n",
      "only showing top 20 rows\n",
      "\n"
     ]
    }
   ],
   "source": [
    "df.show()"
   ]
  },
  {
   "cell_type": "code",
   "execution_count": 15,
   "metadata": {},
   "outputs": [
    {
     "name": "stdout",
     "output_type": "stream",
     "text": [
      "root\n",
      " |-- _c0: integer (nullable = true)\n",
      " |-- Loan_ID: string (nullable = true)\n",
      " |-- Gender: string (nullable = true)\n",
      " |-- Married: string (nullable = true)\n",
      " |-- Dependents: string (nullable = true)\n",
      " |-- Education: string (nullable = true)\n",
      " |-- Self_Employed: string (nullable = true)\n",
      " |-- ApplicantIncome: integer (nullable = true)\n",
      " |-- CoapplicantIncome: double (nullable = true)\n",
      " |-- LoanAmount: double (nullable = true)\n",
      " |-- Loan_Amount_Term: double (nullable = true)\n",
      " |-- Credit_History: double (nullable = true)\n",
      " |-- Property_Area: string (nullable = true)\n",
      " |-- Loan_Status: string (nullable = true)\n",
      "\n"
     ]
    }
   ],
   "source": [
    "df.printSchema()"
   ]
  },
  {
   "cell_type": "code",
   "execution_count": null,
   "metadata": {},
   "outputs": [],
   "source": []
  }
 ],
 "metadata": {
  "kernelspec": {
   "display_name": "Python 3",
   "language": "python",
   "name": "python3"
  },
  "language_info": {
   "codemirror_mode": {
    "name": "ipython",
    "version": 3
   },
   "file_extension": ".py",
   "mimetype": "text/x-python",
   "name": "python",
   "nbconvert_exporter": "python",
   "pygments_lexer": "ipython3",
   "version": "3.7.4"
  }
 },
 "nbformat": 4,
 "nbformat_minor": 2
}
